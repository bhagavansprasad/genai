{
 "cells": [
  {
   "cell_type": "code",
   "execution_count": 1,
   "id": "954c58f5-c14e-49c3-a876-17d1a636ae99",
   "metadata": {
    "tags": []
   },
   "outputs": [],
   "source": [
    "! pip3 install --upgrade --user --quiet google-cloud-aiplatform"
   ]
  },
  {
   "cell_type": "code",
   "execution_count": 2,
   "id": "0ee0ca25-7b88-4bcd-a3a5-a4960a54e95f",
   "metadata": {
    "tags": []
   },
   "outputs": [
    {
     "data": {
      "text/plain": [
       "{'status': 'ok', 'restart': True}"
      ]
     },
     "execution_count": 2,
     "metadata": {},
     "output_type": "execute_result"
    }
   ],
   "source": [
    "import IPython\n",
    "\n",
    "app = IPython.Application.instance()\n",
    "app.kernel.do_shutdown(True)"
   ]
  },
  {
   "cell_type": "code",
   "execution_count": 1,
   "id": "6fc78216-81f4-4063-9678-eb3953af828b",
   "metadata": {
    "tags": []
   },
   "outputs": [],
   "source": [
    "PROJECT_ID = \"rtc-ai-20240203\"  # @param {type:\"string\"}\n",
    "LOCATION = \"us-central1\"  # @param {type:\"string\"}\n",
    "\n",
    "import vertexai\n",
    "\n",
    "vertexai.init(project=PROJECT_ID, location=LOCATION)"
   ]
  },
  {
   "cell_type": "code",
   "execution_count": 2,
   "id": "6f1d6498-69ec-4c31-a8f5-c16f198c508f",
   "metadata": {
    "tags": []
   },
   "outputs": [],
   "source": [
    "from vertexai.generative_models import GenerationConfig, GenerativeModel"
   ]
  },
  {
   "cell_type": "markdown",
   "id": "a2c05273-0d19-4f28-9579-1f18df6ef21a",
   "metadata": {},
   "source": [
    "### Load Model"
   ]
  },
  {
   "cell_type": "code",
   "execution_count": 3,
   "id": "58c7de88-f4f8-48ce-8ae5-28deb74dbb52",
   "metadata": {
    "tags": []
   },
   "outputs": [],
   "source": [
    "model = GenerativeModel(\"gemini-1.5-flash\")"
   ]
  },
  {
   "cell_type": "markdown",
   "id": "5c2fb6fb-f10e-4ca5-815b-ca6f14686b03",
   "metadata": {},
   "source": [
    "## Be concise"
   ]
  },
  {
   "cell_type": "code",
   "execution_count": 4,
   "id": "be7c3cb2-4f6d-4d0a-b9f5-7a9fbdc1d1f0",
   "metadata": {
    "tags": []
   },
   "outputs": [
    {
     "name": "stdout",
     "output_type": "stream",
     "text": [
      "Here are some names for a flower shop specializing in dried flowers, playing on different themes:\n",
      "\n",
      "**Nostalgic & Romantic:**\n",
      "\n",
      "* The Dried Bouquet\n",
      "* Everlasting Blooms\n",
      "* Whispers of Yesterday\n",
      "* The Paper Petal\n",
      "* Timeless Flowers\n",
      "* The Dried Flower Garden\n",
      "* Bloom & Preserve\n",
      "* The Withered Rose\n",
      "* Dusty Blooms\n",
      "\n",
      "**Modern & Chic:**\n",
      "\n",
      "* The Botanical Bar\n",
      "* Dried & Designed\n",
      "* The Bloom Lab\n",
      "* The Petal Studio\n",
      "* Everlasting Art\n",
      "* Bloom Collective\n",
      "* The Dried Flower Society\n",
      "* The Bloom Apothecary\n",
      "\n",
      "**Nature Inspired:**\n",
      "\n",
      "* Willow & Wildflower\n",
      "* Meadow & Moss\n",
      "* The Sun-Kissed Petal\n",
      "* The Wild Bloom Co.\n",
      "* The Botanical Preserve\n",
      "* The Dried Garden\n",
      "\n",
      "**Unique & Playful:**\n",
      "\n",
      "* The Flower Fairy\n",
      "* Petal & Dust\n",
      "* The Bloom Alchemist\n",
      "* The Dried Flower Apothecary\n",
      "* The Flower Whisperer\n",
      "* The Dried Flower Muse\n",
      "\n",
      "**Tips for Choosing a Name:**\n",
      "\n",
      "* **Consider your target audience:** Are you aiming for a specific demographic or style?\n",
      "* **Keep it simple and memorable:** A short, catchy name is easy to remember and share.\n",
      "* **Check for availability:** Make sure the name you choose is not already in use.\n",
      "* **Consider your brand story:** What message do you want to convey with your name?\n",
      "* **Get feedback:** Ask friends and family for their opinions on your name choices.\n",
      "\n",
      "Ultimately, the best name for your flower shop is one that reflects your unique style and brand. Good luck! \n",
      "\n"
     ]
    }
   ],
   "source": [
    "prompt = \"What do you think could be a good name for a flower shop that specializes in selling bouquets of dried flowers more than fresh flowers?\"\n",
    "\n",
    "print(model.generate_content(prompt).text)"
   ]
  },
  {
   "cell_type": "code",
   "execution_count": 5,
   "id": "098bf6d8-260c-4e02-b5ea-926b66b4c724",
   "metadata": {
    "tags": []
   },
   "outputs": [
    {
     "name": "stdout",
     "output_type": "stream",
     "text": [
      "## Flower Shop Names for Dried Bouquets:\n",
      "\n",
      "**Whimsical & Romantic:**\n",
      "\n",
      "* The Dried Petal\n",
      "* Bloom Forever\n",
      "* Whispers of Bloom\n",
      "* Eternal Bloom\n",
      "* Bloom & Dust\n",
      "* The Sun-Kissed Petal\n",
      "* The Everlasting Bouquet\n",
      "* Sun-Dried Blooms\n",
      "* The Dried Flower Garden\n",
      "\n",
      "**Modern & Minimalist:**\n",
      "\n",
      "* Bloom & Co.\n",
      "* Dried Blooms\n",
      "* The Bloomery\n",
      "* The Botanical Studio\n",
      "* The Flower Collective\n",
      "* Wild & Dried\n",
      "* The Dried Flower Bar\n",
      "* Bloom & Gather\n",
      "\n",
      "**Unique & Playful:**\n",
      "\n",
      "* The Dried Flower Alchemist\n",
      "* The Flower Whisperer\n",
      "* The Bloom & Dust Emporium\n",
      "* The Dried Flower Apothecary\n",
      "* The Botanical Curio\n",
      "* The Dusty Bouquet\n",
      "* The Flower & Fern\n",
      "* Bloom & Branch\n",
      "\n",
      "**Location Specific:**\n",
      "\n",
      "* [Your City] Dried Blooms\n",
      "* The [Your Neighborhood] Flower Shop\n",
      "* [Your Street Name] Botanicals\n",
      "\n",
      "**Tips for Choosing:**\n",
      "\n",
      "* **Consider your brand:** What kind of vibe are you going for?\n",
      "* **Keep it short and memorable:** A catchy name is essential.\n",
      "* **Check for availability:** Make sure the name is not already taken.\n",
      "* **Get feedback:** Ask friends and family for their opinions.\n",
      "\n",
      "**Bonus:** You could also consider using a play on words or a botanical term in your name. For example, \"Everlasting Blooms\" or \"The Petal & Stem.\"\n"
     ]
    }
   ],
   "source": [
    "prompt = \"Suggest a name for a flower shop that sells bouquets of dried flowers\"\n",
    "\n",
    "print(model.generate_content(prompt).text)"
   ]
  },
  {
   "cell_type": "markdown",
   "id": "44c530b7-4063-42cc-bcb3-efb180ebf47b",
   "metadata": {},
   "source": [
    "### Be specific and well-defined"
   ]
  },
  {
   "cell_type": "code",
   "execution_count": 6,
   "id": "36319ff0-6771-49dc-9125-1b73a524ce1f",
   "metadata": {
    "tags": []
   },
   "outputs": [
    {
     "name": "stdout",
     "output_type": "stream",
     "text": [
      "## Earth: Our Amazing Home Planet\n",
      "\n",
      "Earth is the third planet from the Sun and the only known place in the universe where life exists. It's a dynamic and diverse world with a rich history and a future full of possibilities. Let's dive into some of its most fascinating aspects:\n",
      "\n",
      "**Physical Characteristics:**\n",
      "\n",
      "* **Size:** Earth is a medium-sized planet with a diameter of 12,742 km.\n",
      "* **Composition:** It's primarily composed of iron, nickel, silicon, oxygen, magnesium, sulfur, calcium, and aluminum.\n",
      "* **Atmosphere:** Earth has a protective atmosphere made up of nitrogen (78%), oxygen (21%), and other trace gases.\n",
      "* **Water:** Approximately 71% of Earth's surface is covered in water, forming oceans, lakes, rivers, and glaciers.\n",
      "* **Landforms:** Earth boasts diverse landforms, including mountains, valleys, deserts, forests, and ice caps.\n",
      "\n",
      "**Life and Biodiversity:**\n",
      "\n",
      "* **Origin of Life:** Life on Earth is estimated to have originated billions of years ago.\n",
      "* **Biodiversity:** Earth is home to an incredible diversity of life, from microscopic organisms to giant whales, encompassing millions of species.\n",
      "* **Ecosystems:** Earth's diverse ecosystems, like rainforests, coral reefs, and grasslands, provide essential services and support a vast web of life.\n",
      "\n",
      "**Climate and Weather:**\n",
      "\n",
      "* **Climate Change:** Earth's climate is constantly changing, influenced by natural cycles and human activities.\n",
      "* **Weather Patterns:** Earth experiences a wide range of weather patterns, including storms, droughts, and floods.\n",
      "* **Seasons:** The Earth's tilt on its axis causes the changing seasons, with different regions experiencing distinct climate variations.\n",
      "\n",
      "**Humanity and the Future:**\n",
      "\n",
      "* **Civilization:** Humans have evolved on Earth and developed advanced civilizations, with a complex history of innovation and progress.\n",
      "* **Environmental Challenges:** Human activities have had a significant impact on Earth's environment, presenting challenges like climate change, pollution, and resource depletion.\n",
      "* **Sustainability:** Finding sustainable solutions to environmental challenges is crucial for the well-being of humanity and the future of Earth.\n",
      "\n",
      "**Earth in Space:**\n",
      "\n",
      "* **Orbit:** Earth orbits the Sun in an elliptical path, taking approximately 365.25 days to complete one revolution.\n",
      "* **Moon:** Earth has a natural satellite, the Moon, which plays a significant role in stabilizing the planet's axis and influencing tides.\n",
      "* **Solar System:** Earth is part of the solar system, which includes the Sun and other planets.\n",
      "\n",
      "**In Conclusion:**\n",
      "\n",
      "Earth is a truly unique and awe-inspiring planet. It's a complex and interconnected system that sustains life and offers endless opportunities for exploration and understanding.  As we continue to learn more about our home planet, we must strive to protect and preserve its incredible resources for future generations. \n",
      "\n"
     ]
    }
   ],
   "source": [
    "prompt = \"Tell me about Earth\"\n",
    "\n",
    "print(model.generate_content(prompt).text)"
   ]
  },
  {
   "cell_type": "code",
   "execution_count": 7,
   "id": "21f38627-2245-4845-b6e1-c3732750379a",
   "metadata": {
    "tags": []
   },
   "outputs": [
    {
     "name": "stdout",
     "output_type": "stream",
     "text": [
      "## Earth's Unique Traits: A Planet Unlike Any Other\n",
      "\n",
      "Earth is a truly special place in our solar system, possessing a unique combination of characteristics that set it apart from its planetary neighbors. Here are some of its most remarkable features:\n",
      "\n",
      "**1. Liquid Water:** Earth is the only planet in our solar system known to have liquid water on its surface. This water is crucial for life as we know it, providing a medium for chemical reactions and serving as a solvent for essential nutrients.\n",
      "\n",
      "**2. Plate Tectonics:**  Earth's dynamic crust is divided into tectonic plates that constantly shift and collide, creating mountains, volcanoes, and earthquakes. This process also contributes to the planet's unique climate and the recycling of its surface.\n",
      "\n",
      "**3. Atmosphere:** Earth possesses a thick and protective atmosphere composed primarily of nitrogen and oxygen. This atmosphere provides us with breathable air, protects us from harmful solar radiation, and regulates our climate.\n",
      "\n",
      "**4. Magnetic Field:** Earth's core generates a strong magnetic field that shields us from the solar wind, a stream of charged particles from the Sun. This magnetic field is essential for life, preventing the stripping away of our atmosphere.\n",
      "\n",
      "**5. Diverse Life:**  Earth is the only planet known to harbor a vast array of life forms. From microscopic bacteria to towering trees, from the deep oceans to the highest mountain peaks, life has adapted to almost every niche on the planet.\n",
      "\n",
      "**6. Climate and Weather:** Earth's atmosphere, coupled with its unique landforms and oceans, creates a diverse range of climates and weather patterns. These variations have influenced the evolution of life on Earth and provided a constantly changing environment.\n",
      "\n",
      "**7. Moon:** Earth's large and relatively close moon plays a significant role in stabilizing our planet's rotation and influencing the tides. It also contributes to the stability of Earth's climate over long periods.\n",
      "\n",
      "**8. Size and Distance from the Sun:** Earth's size and its ideal distance from the sun create a temperate climate that allows for liquid water and the flourishing of life.\n",
      "\n",
      "**9. Abundant Resources:**  Earth contains a wealth of natural resources, including water, minerals, and fossil fuels, that have allowed humans to thrive and develop advanced technology.\n",
      "\n",
      "**10. Consciousness and Intelligence:** While we have yet to find evidence of extraterrestrial life, Earth is the only planet we know of that harbors sentient beings with the capacity for complex thought and action.\n",
      "\n",
      "These unique features combined make Earth a truly exceptional planet, fostering an environment where life has flourished and evolved for billions of years. It is a precious and fragile world that requires our careful stewardship and continued exploration.\n",
      "\n"
     ]
    }
   ],
   "source": [
    "prompt = \"Generate a list of ways that makes Earth unique compared to other planets\"\n",
    "\n",
    "print(model.generate_content(prompt).text)"
   ]
  },
  {
   "cell_type": "markdown",
   "id": "e29a76db-d6da-46d6-b0ca-62fff25469ce",
   "metadata": {},
   "source": [
    "### Ask one task at a time"
   ]
  },
  {
   "cell_type": "code",
   "execution_count": 8,
   "id": "8e7f7847-485d-4221-9ddf-531b7cdb5061",
   "metadata": {
    "tags": []
   },
   "outputs": [
    {
     "name": "stdout",
     "output_type": "stream",
     "text": [
      "Let's tackle these two questions:\n",
      "\n",
      "**Boiling Water**\n",
      "\n",
      "The best method for boiling water depends on what you're using it for and what resources you have available. Here's a breakdown of common methods:\n",
      "\n",
      "* **Stovetop:** This is the most common and versatile method.  Use a pot with a flat bottom and fill it with the desired amount of water. Place it on a stovetop burner set to high heat and wait for the water to boil. \n",
      "* **Microwave:**  This is a quick and efficient way to boil small amounts of water.  Use a microwave-safe container and fill it with water.  Microwave on high until the water boils.  Be careful, as the water can superheat and erupt violently.\n",
      "* **Electric Kettle:** This is a convenient option for quickly boiling water.  Fill the kettle with water, switch it on, and wait for it to boil. \n",
      "* **Campfire:**  If you're outdoors, a campfire can be used to boil water in a pot or kettle.  Make sure the fire is hot and build it in a safe location. \n",
      "\n",
      "**The Sky is Blue**\n",
      "\n",
      "The blue color of the sky is due to a phenomenon called **Rayleigh Scattering**. Here's the gist:\n",
      "\n",
      "1. **Sunlight:**  Sunlight is made up of all the colors of the rainbow.\n",
      "2. **Atmosphere:** Earth's atmosphere is filled with tiny particles like nitrogen and oxygen molecules.\n",
      "3. **Scattering:** When sunlight hits these particles, it gets scattered in all directions.  \n",
      "4. **Wavelengths:**  Blue light has shorter wavelengths than other colors. These shorter wavelengths get scattered more strongly than longer wavelengths (like red).\n",
      "5. **Our Perception:** This scattered blue light is what we see as the blue sky.\n",
      "\n",
      "**Bonus:**\n",
      "\n",
      "* The sun appears red at sunrise and sunset because sunlight has to travel through more of the atmosphere to reach us. This means more blue light is scattered away, leaving the longer wavelengths (red and orange) to reach our eyes.\n",
      "\n",
      "Let me know if you have more questions! \n",
      "\n"
     ]
    }
   ],
   "source": [
    "prompt = \"What's the best method of boiling water and why is the sky blue?\"\n",
    "\n",
    "print(model.generate_content(prompt).text)"
   ]
  },
  {
   "cell_type": "code",
   "execution_count": 9,
   "id": "32bade09-48a3-40c3-ba94-c4fe4596ced2",
   "metadata": {
    "tags": []
   },
   "outputs": [
    {
     "name": "stdout",
     "output_type": "stream",
     "text": [
      "The sky appears blue due to a phenomenon called **Rayleigh scattering**. Here's a breakdown:\n",
      "\n",
      "* **Sunlight:** The sun emits white light, which is actually a mixture of all colors of the rainbow.\n",
      "* **Atmosphere:**  Earth's atmosphere is composed of tiny particles like nitrogen and oxygen molecules.\n",
      "* **Scattering:** When sunlight enters the atmosphere, these tiny particles scatter the light in all directions.\n",
      "* **Wavelengths:**  Blue light has a shorter wavelength than other colors (like red or orange). \n",
      "* **Scattering Efficiency:**  Shorter wavelengths like blue are scattered much more efficiently by the tiny particles in the atmosphere. This means blue light is scattered more widely, reaching our eyes from all directions. \n",
      "\n",
      "**In essence, the blue light from the sun is scattered more than other colors, making the sky appear blue to us.**\n",
      "\n",
      "**Additional factors to consider:**\n",
      "\n",
      "* **Time of day:** The sky can appear different colors at different times of day. For example, at sunrise and sunset, the sunlight travels through more of the atmosphere, scattering more of the blue light away. This allows other colors like orange and red to become more prominent.\n",
      "* **Clouds:** Clouds can also affect the color of the sky.  White clouds are made of water droplets that reflect all wavelengths of light equally.\n",
      "\n",
      "Let me know if you'd like to delve deeper into any of these points! \n",
      "\n"
     ]
    }
   ],
   "source": [
    "prompt = \"Why is the sky blue?\"\n",
    "\n",
    "print(model.generate_content(prompt).text)"
   ]
  },
  {
   "cell_type": "markdown",
   "id": "c718e526-e44f-4fc4-9918-999bc0dca549",
   "metadata": {
    "tags": []
   },
   "source": [
    "## Temperature config\n",
    "Temperature set to 1.0 allows LLM to take more risks in its reponse choices. It is possible for it to be inaccurate. If we need deterministic response, set temperature to 0.1"
   ]
  },
  {
   "cell_type": "markdown",
   "id": "27e5a2e6-eb29-4189-b8d5-c1d2e0e34242",
   "metadata": {},
   "source": [
    "### Temperature = 1.0 (Creative)"
   ]
  },
  {
   "cell_type": "code",
   "execution_count": 10,
   "id": "2defcc96-cad5-4e24-a79e-d75b71af1fb7",
   "metadata": {
    "tags": []
   },
   "outputs": [
    {
     "name": "stdout",
     "output_type": "stream",
     "text": [
      "I do not have access to real-time information, including the current date. To find out what day it is, you can check a calendar or ask a voice assistant like Siri or Google Assistant. \n",
      "\n"
     ]
    }
   ],
   "source": [
    "generation_config = GenerationConfig(temperature=1.0)\n",
    "\n",
    "prompt = \"What day is it today?\"\n",
    "\n",
    "print(model.generate_content(prompt, generation_config=generation_config).text)"
   ]
  },
  {
   "cell_type": "code",
   "execution_count": 11,
   "id": "b14edabd-f025-4a96-ae87-d66c9d140efc",
   "metadata": {
    "tags": []
   },
   "outputs": [
    {
     "name": "stdout",
     "output_type": "stream",
     "text": [
      "I do not have access to real-time information, including the current date. To find out what day it is, you can check a calendar or use a voice assistant on your device. \n",
      "\n"
     ]
    }
   ],
   "source": [
    "generation_config = GenerationConfig(temperature=1.0)\n",
    "\n",
    "prompt = \"What day is it today?\"\n",
    "\n",
    "print(model.generate_content(prompt, generation_config=generation_config).text)"
   ]
  },
  {
   "cell_type": "code",
   "execution_count": 12,
   "id": "cfa579e7-b90c-4740-a004-f59ee19d1833",
   "metadata": {
    "tags": []
   },
   "outputs": [
    {
     "name": "stdout",
     "output_type": "stream",
     "text": [
      "I do not have access to real-time information, including the current date. To know what day it is today, please check a calendar or a reliable online source. \n",
      "\n"
     ]
    }
   ],
   "source": [
    "generation_config = GenerationConfig(temperature=1.0)\n",
    "\n",
    "prompt = \"What day is it today?\"\n",
    "\n",
    "print(model.generate_content(prompt, generation_config=generation_config).text)"
   ]
  },
  {
   "cell_type": "markdown",
   "id": "a97a960a-7a16-49fd-871d-2d27c1430be0",
   "metadata": {},
   "source": [
    "### Temperature = 0.1  (Deterministic)"
   ]
  },
  {
   "cell_type": "code",
   "execution_count": 13,
   "id": "d5077acf-fe78-4154-a764-85a422e9bb8a",
   "metadata": {
    "tags": []
   },
   "outputs": [
    {
     "name": "stdout",
     "output_type": "stream",
     "text": [
      "I do not have access to real-time information, including the current date. To find out what day it is, you can check a calendar or ask a voice assistant like Siri or Google Assistant. \n",
      "\n"
     ]
    }
   ],
   "source": [
    "generation_config = GenerationConfig(temperature=0.1)\n",
    "\n",
    "prompt = \"What day is it today?\"\n",
    "\n",
    "print(model.generate_content(prompt, generation_config=generation_config).text)"
   ]
  },
  {
   "cell_type": "code",
   "execution_count": 14,
   "id": "2481b46b-9585-4c75-b26a-da4306896e01",
   "metadata": {
    "tags": []
   },
   "outputs": [
    {
     "name": "stdout",
     "output_type": "stream",
     "text": [
      "I do not have access to real-time information, including the current date. To find out what day it is, you can check a calendar or ask a voice assistant like Siri or Google Assistant. \n",
      "\n"
     ]
    }
   ],
   "source": [
    "generation_config = GenerationConfig(temperature=0.1)\n",
    "\n",
    "prompt = \"What day is it today?\"\n",
    "\n",
    "print(model.generate_content(prompt, generation_config=generation_config).text)"
   ]
  },
  {
   "cell_type": "code",
   "execution_count": 15,
   "id": "92d0f8f5-0eae-4673-86b8-1f0da57e47ef",
   "metadata": {
    "tags": []
   },
   "outputs": [
    {
     "name": "stdout",
     "output_type": "stream",
     "text": [
      "I do not have access to real-time information, including the current date. To find out what day it is, you can check a calendar or ask a voice assistant like Siri or Google Assistant. \n",
      "\n"
     ]
    }
   ],
   "source": [
    "generation_config = GenerationConfig(temperature=0.1)\n",
    "\n",
    "prompt = \"What day is it today?\"\n",
    "\n",
    "print(model.generate_content(prompt, generation_config=generation_config).text)"
   ]
  },
  {
   "cell_type": "markdown",
   "id": "e8e66a04-daea-4788-9935-55e3482fefe4",
   "metadata": {},
   "source": [
    "## Using system instructions to guardrail the model from irrelevant responses\n",
    "https://cloud.google.com/vertex-ai/generative-ai/docs/learn/prompts/system-instructions"
   ]
  },
  {
   "cell_type": "code",
   "execution_count": 17,
   "id": "60e8d212-3c41-487f-83c1-66e6a981fda5",
   "metadata": {
    "tags": []
   },
   "outputs": [
    {
     "name": "stdout",
     "output_type": "stream",
     "text": [
      "Milan has many amazing places for sightseeing! To give you the best recommendation, I need to know more about your interests. \n",
      "\n",
      "What kind of things do you enjoy seeing? \n",
      "\n",
      "* Are you interested in art and history? \n",
      "* Do you prefer outdoor spaces and gardens? \n",
      "* Are you looking for a vibrant shopping experience? \n",
      "\n",
      "Tell me more about your preferences, and I can help you find the perfect spot in Milan! \n",
      "\n"
     ]
    }
   ],
   "source": [
    "model_travel = GenerativeModel(\n",
    "    model_name=\"gemini-1.5-flash\",\n",
    "    system_instruction=[\n",
    "        \"Hello! You are an AI chatbot for a travel web site.\",\n",
    "        \"Your mission is to provide helpful queries for travelers.\",\n",
    "        \"Remember that before you answer a question, you must check to see if it complies with your mission.\",\n",
    "        \"If not, you can say, Sorry I can't answer that question.\",\n",
    "    ],\n",
    ")\n",
    "\n",
    "chat = model_travel.start_chat()\n",
    "\n",
    "prompt = \"What is the best place for sightseeing in Milan, Italy?\"\n",
    "print(chat.send_message(prompt).text)"
   ]
  },
  {
   "cell_type": "code",
   "execution_count": 18,
   "id": "474fc354-b700-43a6-8d38-97801f292b04",
   "metadata": {
    "tags": []
   },
   "outputs": [
    {
     "name": "stdout",
     "output_type": "stream",
     "text": [
      "Sorry, I can't answer that question. I am an AI chatbot designed to help travelers with their trip planning.  I can't provide information on dinner options. \n",
      "\n",
      "Let me know if you have any questions about Milan, like the best places to visit, the best time to travel, or what to pack!  I'm happy to help. \n",
      "\n"
     ]
    }
   ],
   "source": [
    "prompt = \"What's for dinner?\"\n",
    "print(chat.send_message(prompt).text)"
   ]
  },
  {
   "cell_type": "code",
   "execution_count": 19,
   "id": "c68621c4-2a21-44c0-b5c8-1057acac29b9",
   "metadata": {
    "tags": []
   },
   "outputs": [
    {
     "name": "stdout",
     "output_type": "stream",
     "text": [
      "Chennai is a vibrant city with a rich history and culture! To help you find the best sightseeing spot, tell me more about what you're interested in. \n",
      "\n",
      "Are you looking for:\n",
      "\n",
      "* **Historical landmarks?** The Fort St. George, Kapaleeshwarar Temple, and Parthasarathy Temple are all fascinating options.\n",
      "* **Cultural experiences?**  You might enjoy visiting the Government Museum, the Marina Beach, or taking a cooking class.\n",
      "* **Nature and outdoor spaces?**  The Guindy National Park and the  Valluvar Kottam are great options.\n",
      "\n",
      "Let me know your preferences, and I can suggest the perfect sightseeing spot for you in Chennai! \n",
      "\n"
     ]
    }
   ],
   "source": [
    "prompt = \"What is the best place for sightseeing in Chennai, India?\"\n",
    "print(chat.send_message(prompt).text)"
   ]
  },
  {
   "cell_type": "markdown",
   "id": "2a633321-f029-490f-aad7-85f47f204cbb",
   "metadata": {},
   "source": [
    "## Turn generative tasks into classification tasks to reduce output variability¶"
   ]
  },
  {
   "cell_type": "code",
   "execution_count": null,
   "id": "77bb5d0b-809b-4be3-85a0-657468e150ba",
   "metadata": {},
   "outputs": [],
   "source": []
  }
 ],
 "metadata": {
  "environment": {
   "kernel": "python3",
   "name": "tf2-cpu.2-11.m124",
   "type": "gcloud",
   "uri": "us-docker.pkg.dev/deeplearning-platform-release/gcr.io/tf2-cpu.2-11:m124"
  },
  "kernelspec": {
   "display_name": "Python 3 (Local)",
   "language": "python",
   "name": "python3"
  },
  "language_info": {
   "codemirror_mode": {
    "name": "ipython",
    "version": 3
   },
   "file_extension": ".py",
   "mimetype": "text/x-python",
   "name": "python",
   "nbconvert_exporter": "python",
   "pygments_lexer": "ipython3",
   "version": "3.10.14"
  }
 },
 "nbformat": 4,
 "nbformat_minor": 5
}
